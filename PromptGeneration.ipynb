{
 "cells": [
  {
   "cell_type": "code",
   "execution_count": 106,
   "id": "c000c383-b872-4e6a-a5b4-609753af05ed",
   "metadata": {
    "tags": []
   },
   "outputs": [
    {
     "name": "stdout",
     "output_type": "stream",
     "text": [
      "Note: you may need to restart the kernel to use updated packages.\n"
     ]
    }
   ],
   "source": [
    "%pip install gradio"
   ]
  },
  {
   "cell_type": "code",
   "execution_count": 107,
   "id": "b5f6d018-8764-4f2c-b6d7-fd6a3d29057e",
   "metadata": {
    "tags": []
   },
   "outputs": [],
   "source": [
    "tokenizer = AutoTokenizer.from_pretrained(\"distilgpt2\")\n",
    "model = AutoModelForCausalLM.from_pretrained(\"FredZhang7/distilgpt2-stable-diffusion-v2\")#\"Gustavosta/MagicPrompt-Stable-Diffusion\") # \"FredZhang7/distilgpt2-stable-diffusion-v2\")\n",
    "# tokenizer = AutoTokenizer.from_pretrained(\"Gustavosta/MagicPrompt-Stable-Diffusion\")\n",
    "# model = AutoModelForCausalLM.from_pretrained(\"Gustavosta/MagicPrompt-Stable-Diffusion\")\n",
    "\n",
    "input_ids = tokenizer(\"beach party, dj, colourful lights\", return_tensors='pt').input_ids\n",
    "if input_ids.shape[1] == 0:\n",
    "    input_ids = torch.asarray(\n",
    "        [[current.tokenizer.bos_token_id]], dtype=torch.long)\n",
    "temperature = 1\n",
    "top_k = 12\n",
    "min_length = 40\n",
    "max_length = 90\n",
    "repetition_penalty=1\n",
    "num_return_sequences=5\n",
    "output = model.generate(input_ids,\n",
    "                do_sample=True,\n",
    "                temperature=max(float(temperature), 1e-6),\n",
    "                top_k=round(top_k),\n",
    "                max_length=max_length,\n",
    "                num_return_sequences=num_return_sequences,\n",
    "                repetition_penalty=float(repetition_penalty),\n",
    "                pad_token_id=tokenizer.pad_token_id or tokenizer.eos_token_id\n",
    ")\n",
    "texts = tokenizer.batch_decode(output, skip_special_tokens=True)"
   ]
  },
  {
   "cell_type": "code",
   "execution_count": 108,
   "id": "0c964724-e6ae-498e-abfa-b81c763e5714",
   "metadata": {
    "tags": []
   },
   "outputs": [],
   "source": [
    "def clean_prompts(input_prompts):\n",
    "    prompts=[]\n",
    "    for text in input_prompts:\n",
    "        output_text=\"\"\n",
    "        elements = text.split(',')\n",
    "        # print(elements)\n",
    "        for element in elements:\n",
    "            if (element.find('by') == -1) and (element.find('style of') == -1):\n",
    "                output_text += f\",{element}\"\n",
    "        prompts.append(output_text[1:])\n",
    "    return prompts"
   ]
  },
  {
   "cell_type": "code",
   "execution_count": 109,
   "id": "8412db84-366b-4941-b033-31200565641e",
   "metadata": {
    "tags": []
   },
   "outputs": [
    {
     "data": {
      "text/plain": [
       "['beach party, dj, colourful lights, night time, dark, cinematic, high detail, high resolution, 8 k, intricate details, illustration, frank frazetta, jc leyendecker, and singer sargent, trending on artstation, thomas kinkade, greg rutkowski, alphonse mucha, studio ghibli, makoto shinkai, sharp focus',\n",
       " 'beach party, dj, colourful lights, night, art, painting, artstation, unreal engine 5, 4 k detailed, octane render, intricate, hyperrealistic. very detailed, 8 k resolution, hd quality 1 6 k resolution, trending on artstation, trending on deviantart, artstation hq, deviantart, pinterest, photoreal',\n",
       " 'beach party, dj, colourful lights, people, people, people, people, people, people, dancing, party, people, music, people, neon, bright lights, cyberpunk, wide angle, cinematic, trending on artstation, intricate, highly detailed, digital painting, concept art, sharp focus, 8 k',\n",
       " 'beach party, dj, colourful lights, digital art, artstation, highly detailed, concept art, sharp focus, illustration, 8 k, hd, high resolution, intricate, artstation, octane render, unreal engine, cinematic',\n",
       " 'beach party, dj, colourful lights on horizon, dark mood, realistic, digital painting, artstation, concept art, sharp focus, illustration, unreal engine render 8 k, intricate, highly detailed, digital painting, artstation, sharp focus, illustration, 8 k, low contrast,']"
      ]
     },
     "execution_count": 109,
     "metadata": {},
     "output_type": "execute_result"
    }
   ],
   "source": [
    "clean_prompts(texts)"
   ]
  },
  {
   "cell_type": "code",
   "execution_count": null,
   "id": "cdf229fb-dca9-447e-a2d1-6bcd10962e28",
   "metadata": {},
   "outputs": [],
   "source": []
  }
 ],
 "metadata": {
  "kernelspec": {
   "display_name": "conda_deforum",
   "language": "python",
   "name": "conda_deforum"
  },
  "language_info": {
   "codemirror_mode": {
    "name": "ipython",
    "version": 3
   },
   "file_extension": ".py",
   "mimetype": "text/x-python",
   "name": "python",
   "nbconvert_exporter": "python",
   "pygments_lexer": "ipython3",
   "version": "3.9.16"
  }
 },
 "nbformat": 4,
 "nbformat_minor": 5
}
